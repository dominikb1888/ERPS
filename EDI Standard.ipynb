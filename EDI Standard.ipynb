{
 "cells": [
  {
   "cell_type": "code",
   "execution_count": 2,
   "id": "0861a64a",
   "metadata": {},
   "outputs": [
    {
     "name": "stdout",
     "output_type": "stream",
     "text": [
      "Requirement already satisfied: pydifact in /usr/local/lib/python3.9/site-packages (0.0.6)\n"
     ]
    }
   ],
   "source": [
    "!pip install pydifact"
   ]
  },
  {
   "cell_type": "code",
   "execution_count": 3,
   "id": "f3ce892b",
   "metadata": {},
   "outputs": [],
   "source": [
    "import pydifact"
   ]
  },
  {
   "cell_type": "markdown",
   "id": "bde13e23",
   "metadata": {},
   "source": [
    "SAMPLE FILE:\n",
    "https://github.com/nerdocs/pydifact/blob/master/tests/data/order.edi\n",
    "\n",
    "```\n",
    "UNA:+,? '\n",
    "UNH+1+ORDERS:D:96A:UN:EAN008'\n",
    "BGM+220::9+801715918011+9+NA'\n",
    "DTM+137:201508030000:203'\n",
    "DTM+2:201508060000:203'\n",
    "RFF+PD:50515'\n",
    "NAD+SU+5020436000004::9'\n",
    "NAD+BY+8711576000012::9'\n",
    "NAD+DP+8711576100019::9'\n",
    "LIN+1++5020436373085:EN'\n",
    "QTY+21:8'\n",
    "RFF+PD:99'\n",
    "LIN+2++5020436373108:EN'\n",
    "QTY+21:8'\n",
    "RFF+PD:99'\n",
    "UNS+S'\n",
    "UNT+16+1'\n",
    "```"
   ]
  },
  {
   "cell_type": "code",
   "execution_count": 11,
   "id": "c1e922a3",
   "metadata": {},
   "outputs": [
    {
     "data": {
      "text/plain": [
       "<pydifact.segmentcollection.Interchange at 0x7ffda0c83790>"
      ]
     },
     "execution_count": 11,
     "metadata": {},
     "output_type": "execute_result"
    }
   ],
   "source": [
    "from pydifact.segmentcollection import Interchange\n",
    "\n",
    "order=\"\"\" \n",
    "UNB+UNOA:1+01010000253001+O0013000093SCHA-Z59+991006:1902+PAYO0012101221'\n",
    "UNH+1+INVOIC:D:97A:UN'\n",
    "BGM+381+1060113800026+9'\n",
    "DTM+137:199910060000:102'\n",
    "NAD+BT+VAUXHALL MOTORS LTD::91'\n",
    "RFF+VA:382324067'\n",
    "NAD+SU+2002993::92'\n",
    "RFF+VA:123844750'\n",
    "CUX+2:EUR'\n",
    "PAT+1'\n",
    "DTM+140:19991031:102'\n",
    "LIN+++090346642:IN'\n",
    "QTY+12:54:PCE'\n",
    "MOA+203:1960.29'\n",
    "PRI+AAA:3630.1724::NTP:100:C62'\n",
    "RFF+SI:165480'\n",
    "DTM+11:199909280000:102'\n",
    "RFF+ON:X18V00003'\n",
    "RFF+TN:AB1'\n",
    "TAX+7+VAT+++:::0'\n",
    "NAD+ST+023::92'\n",
    "UNS+S'\n",
    "MOA+77:1960.29'\n",
    "TAX+7+VAT'\n",
    "UNT+24+1'\n",
    "UNZ+1+PAYO0012101221'\n",
    "\"\"\"\n",
    "\n",
    "interchange = Interchange.from_str(order.strip())\n",
    "interchange"
   ]
  },
  {
   "cell_type": "markdown",
   "id": "1766dc46",
   "metadata": {},
   "source": [
    "# Challenge: Can you create a Pandas Dataframe from our EDIFACT Message?\n",
    "\n",
    "https://ediacademy.com/blog/edi-segment-definition/"
   ]
  },
  {
   "cell_type": "code",
   "execution_count": 17,
   "id": "0c48ed47",
   "metadata": {},
   "outputs": [
    {
     "name": "stdout",
     "output_type": "stream",
     "text": [
      "BGM\n",
      "['381', '1060113800026', '9']\n",
      "DTM\n",
      "[['137', '199910060000', '102']]\n",
      "NAD\n",
      "['BT', ['VAUXHALL MOTORS LTD', '', '91']]\n",
      "RFF\n",
      "[['VA', '382324067']]\n",
      "NAD\n",
      "['SU', ['2002993', '', '92']]\n",
      "RFF\n",
      "[['VA', '123844750']]\n",
      "CUX\n",
      "[['2', 'EUR']]\n",
      "PAT\n",
      "['1']\n",
      "DTM\n",
      "[['140', '19991031', '102']]\n",
      "LIN\n",
      "['', '', ['090346642', 'IN']]\n",
      "QTY\n",
      "[['12', '54', 'PCE']]\n",
      "MOA\n",
      "[['203', '1960.29']]\n",
      "PRI\n",
      "[['AAA', '3630.1724', '', 'NTP', '100', 'C62']]\n",
      "RFF\n",
      "[['SI', '165480']]\n",
      "DTM\n",
      "[['11', '199909280000', '102']]\n",
      "RFF\n",
      "[['ON', 'X18V00003']]\n",
      "RFF\n",
      "[['TN', 'AB1']]\n",
      "TAX\n",
      "['7', 'VAT', '', '', ['', '', '', '0']]\n",
      "NAD\n",
      "['ST', ['023', '', '92']]\n",
      "UNS\n",
      "['S']\n",
      "MOA\n",
      "[['77', '1960.29']]\n",
      "TAX\n",
      "['7', 'VAT']\n"
     ]
    }
   ],
   "source": [
    "import pandas as pd\n",
    "\n",
    "\n",
    "edict = []\n",
    "for message in interchange.get_messages():\n",
    "    for segment in message.segments:\n",
    "        print(segment.tag)\n",
    "        print(segment.elements)\n",
    "        \n",
    "    \n"
   ]
  },
  {
   "cell_type": "code",
   "execution_count": 32,
   "id": "3d5e0785-1818-4259-9d6e-487e51259105",
   "metadata": {},
   "outputs": [
    {
     "data": {
      "text/html": [
       "<div>\n",
       "<style scoped>\n",
       "    .dataframe tbody tr th:only-of-type {\n",
       "        vertical-align: middle;\n",
       "    }\n",
       "\n",
       "    .dataframe tbody tr th {\n",
       "        vertical-align: top;\n",
       "    }\n",
       "\n",
       "    .dataframe thead th {\n",
       "        text-align: right;\n",
       "    }\n",
       "</style>\n",
       "<table border=\"1\" class=\"dataframe\">\n",
       "  <thead>\n",
       "    <tr style=\"text-align: right;\">\n",
       "      <th></th>\n",
       "      <th>BGM</th>\n",
       "      <th>DTM</th>\n",
       "      <th>NAD</th>\n",
       "      <th>RFF</th>\n",
       "      <th>CUX</th>\n",
       "      <th>PAT</th>\n",
       "      <th>LIN</th>\n",
       "      <th>QTY</th>\n",
       "      <th>MOA</th>\n",
       "      <th>PRI</th>\n",
       "      <th>TAX</th>\n",
       "      <th>UNS</th>\n",
       "    </tr>\n",
       "  </thead>\n",
       "  <tbody>\n",
       "    <tr>\n",
       "      <th>0</th>\n",
       "      <td>[381, 1060113800026, 9]</td>\n",
       "      <td>[[11, 199909280000, 102]]</td>\n",
       "      <td>[ST, [023, , 92]]</td>\n",
       "      <td>[[TN, AB1]]</td>\n",
       "      <td>[[2, EUR]]</td>\n",
       "      <td>[1]</td>\n",
       "      <td>[, , [090346642, IN]]</td>\n",
       "      <td>[[12, 54, PCE]]</td>\n",
       "      <td>[[77, 1960.29]]</td>\n",
       "      <td>[[AAA, 3630.1724, , NTP, 100, C62]]</td>\n",
       "      <td>[7, VAT]</td>\n",
       "      <td>[S]</td>\n",
       "    </tr>\n",
       "  </tbody>\n",
       "</table>\n",
       "</div>"
      ],
      "text/plain": [
       "                       BGM                        DTM                NAD  \\\n",
       "0  [381, 1060113800026, 9]  [[11, 199909280000, 102]]  [ST, [023, , 92]]   \n",
       "\n",
       "           RFF         CUX  PAT                    LIN              QTY  \\\n",
       "0  [[TN, AB1]]  [[2, EUR]]  [1]  [, , [090346642, IN]]  [[12, 54, PCE]]   \n",
       "\n",
       "               MOA                                  PRI       TAX  UNS  \n",
       "0  [[77, 1960.29]]  [[AAA, 3630.1724, , NTP, 100, C62]]  [7, VAT]  [S]  "
      ]
     },
     "execution_count": 32,
     "metadata": {},
     "output_type": "execute_result"
    }
   ],
   "source": [
    "edilist = []\n",
    "\n",
    "\n",
    "\n",
    "for message in interchange.get_messages():\n",
    "    # creating a list from a dictionary comprehension\n",
    "    # edilist.append({segment.tag:segment.elements for segment in message.segments})                  \n",
    "    edict = {}\n",
    "    for segment in message.segments:   \n",
    "        edict[segment.tag] = segment.elements\n",
    "\n",
    "    edilist.append(edict)    \n",
    "    \n",
    "df = pd.DataFrame(edilist)\n",
    "df"
   ]
  },
  {
   "cell_type": "code",
   "execution_count": 30,
   "id": "f459b0b2-aedc-4602-aa8a-df1af5570377",
   "metadata": {},
   "outputs": [
    {
     "data": {
      "text/plain": [
       "[BGM segment: ['381', '1060113800026', '9'],\n",
       " DTM segment: [['137', '199910060000', '102']],\n",
       " NAD segment: ['BT', ['VAUXHALL MOTORS LTD', '', '91']],\n",
       " RFF segment: [['VA', '382324067']],\n",
       " NAD segment: ['SU', ['2002993', '', '92']],\n",
       " RFF segment: [['VA', '123844750']],\n",
       " CUX segment: [['2', 'EUR']],\n",
       " PAT segment: ['1'],\n",
       " DTM segment: [['140', '19991031', '102']],\n",
       " LIN segment: ['', '', ['090346642', 'IN']],\n",
       " QTY segment: [['12', '54', 'PCE']],\n",
       " MOA segment: [['203', '1960.29']],\n",
       " PRI segment: [['AAA', '3630.1724', '', 'NTP', '100', 'C62']],\n",
       " RFF segment: [['SI', '165480']],\n",
       " DTM segment: [['11', '199909280000', '102']],\n",
       " RFF segment: [['ON', 'X18V00003']],\n",
       " RFF segment: [['TN', 'AB1']],\n",
       " TAX segment: ['7', 'VAT', '', '', ['', '', '', '0']],\n",
       " NAD segment: ['ST', ['023', '', '92']],\n",
       " UNS segment: ['S'],\n",
       " MOA segment: [['77', '1960.29']],\n",
       " TAX segment: ['7', 'VAT']]"
      ]
     },
     "execution_count": 30,
     "metadata": {},
     "output_type": "execute_result"
    }
   ],
   "source": [
    "message.segments"
   ]
  },
  {
   "cell_type": "code",
   "execution_count": 22,
   "id": "5dfbc0f5",
   "metadata": {},
   "outputs": [],
   "source": [
    "trans_dict = {\n",
    "  \"ISA\":\"Interchange Control Header\",\n",
    "  \"GS\":\"Functional Group Header\",\n",
    "  \"ST\":\"Transaction Set Header\",\n",
    "  \"BGN\":\"Beginning Segment\",\n",
    "  \"N9\":\"Reference Identification\",\n",
    "  \"TRN\":\"Trace\",\n",
    "  \"AMT\":\"Monetary Amount\",\n",
    "  \"QTY\":\"Quantity\",\n",
    "  \"SE\":\"Transaction Set Trailer\",\n",
    "  \"GE\":\"Functional Group Trailer\",\n",
    "  \"IEA\":\"Interchange Control Trailer\",\n",
    "}"
   ]
  },
  {
   "cell_type": "code",
   "execution_count": null,
   "id": "74ec6263-f0d1-4842-802f-685d6fea23a2",
   "metadata": {},
   "outputs": [],
   "source": []
  }
 ],
 "metadata": {
  "kernelspec": {
   "display_name": "erpsex",
   "language": "python",
   "name": "erpsex"
  },
  "language_info": {
   "codemirror_mode": {
    "name": "ipython",
    "version": 3
   },
   "file_extension": ".py",
   "mimetype": "text/x-python",
   "name": "python",
   "nbconvert_exporter": "python",
   "pygments_lexer": "ipython3",
   "version": "3.9.1"
  },
  "latex_envs": {
   "LaTeX_envs_menu_present": true,
   "autoclose": false,
   "autocomplete": true,
   "bibliofile": "biblio.bib",
   "cite_by": "apalike",
   "current_citInitial": 1,
   "eqLabelWithNumbers": true,
   "eqNumInitial": 1,
   "hotkeys": {
    "equation": "Ctrl-E",
    "itemize": "Ctrl-I"
   },
   "labels_anchors": false,
   "latex_user_defs": false,
   "report_style_numbering": false,
   "user_envs_cfg": false
  },
  "toc": {
   "base_numbering": 1,
   "nav_menu": {},
   "number_sections": true,
   "sideBar": true,
   "skip_h1_title": false,
   "title_cell": "Table of Contents",
   "title_sidebar": "Contents",
   "toc_cell": false,
   "toc_position": {},
   "toc_section_display": true,
   "toc_window_display": false
  },
  "varInspector": {
   "cols": {
    "lenName": 16,
    "lenType": 16,
    "lenVar": "400"
   },
   "kernels_config": {
    "python": {
     "delete_cmd_postfix": "",
     "delete_cmd_prefix": "del ",
     "library": "var_list.py",
     "varRefreshCmd": "print(var_dic_list())"
    },
    "r": {
     "delete_cmd_postfix": ") ",
     "delete_cmd_prefix": "rm(",
     "library": "var_list.r",
     "varRefreshCmd": "cat(var_dic_list()) "
    }
   },
   "types_to_exclude": [
    "module",
    "function",
    "builtin_function_or_method",
    "instance",
    "_Feature"
   ],
   "window_display": true
  }
 },
 "nbformat": 4,
 "nbformat_minor": 5
}
