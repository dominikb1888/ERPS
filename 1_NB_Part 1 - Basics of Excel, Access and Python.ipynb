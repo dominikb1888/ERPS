{
 "cells": [
  {
   "cell_type": "code",
   "execution_count": 4,
   "metadata": {},
   "outputs": [],
   "source": [
    "# UTILITY FUNCTIONS\n",
    "\n",
    "import pandas as pd\n",
    "import pandas_access as mdb\n",
    "import os\n",
    "\n",
    "def importAccess(filepath):\n",
    "    #Filter Temporary Tables that cannot be converted to a DataFrame\n",
    "    filtered_tables = [tbl for tbl in mdb.list_tables(db_filename) if tbl.startswith('~') == False]\n",
    "    for tbl in filtered_tables:\n",
    "        df = mdb.read_table(db_filename, tbl)\n",
    "        print(tbl)\n",
    "        print(df.head(5))\n",
    "\n",
    "def importExcel(filepath):\n",
    "    df = pd.read_excel(filepath) \n",
    "    return df\n",
    "\n",
    "def importCSV(filepath):\n",
    "    df = pd.read_csv(filepath) \n",
    "    return df\n",
    "\n",
    "def notSupportedYet(filepath):\n",
    "    filetype = filepath.rsplit('.', 1)[1]\n",
    "    print(\"This is a\" + filepath.rsplit('.', 1)[1] + \"-File. Please bring it into a structured from, e.g. CSV\")\n",
    "    \n",
    "filetypeDict = {\n",
    "     'accdb':   importAccess,\n",
    "      'xlsx':   importExcel,\n",
    "       'csv':   importCSV,\n",
    "      'docx':   notSupportedYet,\n",
    "       'txt':   notSupportedYet\n",
    "} \n",
    "        \n",
    "def importFile(chapter, excercise):\n",
    "    filename = 'Ch' + chapter + 'Ex' + excercise + '_E9e'\n",
    "    filedir = \"./Files\"\n",
    "    #create a list of lists of filenames and filetypes \n",
    "    filedict = {filename.rsplit('.', 1)[0]:filename.rsplit('.', 1)[1] for filename in os.listdir(filedir)}\n",
    "    if filename in filedict:\n",
    "        filepath = filedir + \"/\" + filename + \".\" + filedict[filename]\n",
    "        filetypeDict.get(filedict[filename], lambda: 'Invalid')(filepath)\n",
    "        \n",
    "    else:\n",
    "        print(\"File \" + filename + \" doesn't exist in Folder '\" + filedir + \" Try a different file :-)\")    "
   ]
  },
  {
   "cell_type": "markdown",
   "metadata": {
    "nbgrader": {
     "grade": false,
     "grade_id": "cell-0fcb90ce4ceb5e2b",
     "locked": true,
     "schema_version": 3,
     "solution": false,
     "task": false
    }
   },
   "source": [
    "Part 1\n",
    "======\n",
    "\n",
    "\n",
    "## Excel Basics - The Plant Manager\n",
    "\n",
    "The spreadsheet in Microsoft Excel file *Ch01Ex01_E9e* contains records of employee activity on special projects. Open this workbook and examine the data that you find in the three spreadsheets it contains. Assess the accuracy, relevancy, and sufficiency of this data to the following people and problems.\n",
    "\n",
    "- [Exercise 1, Excel File Ch01Ex01_E9e](./Files/Ch01Ex01_E9e.xlsx)"
   ]
  },
  {
   "cell_type": "markdown",
   "metadata": {
    "nbgrader": {
     "grade": false,
     "grade_id": "cell-6aa6abc56695e4ed",
     "locked": true,
     "schema_version": 3,
     "solution": false,
     "task": false
    }
   },
   "source": [
    "**Instructions:**"
   ]
  },
  {
   "cell_type": "markdown",
   "metadata": {
    "nbgrader": {
     "grade": false,
     "grade_id": "cell-cb1dd9ef716504f7",
     "locked": true,
     "points": 0,
     "schema_version": 3,
     "solution": false,
     "task": true
    }
   },
   "source": [
    "1.  You manage the Denver plant, and you want to know how much time your\n",
    "    employees are spending on special projects."
   ]
  },
  {
   "cell_type": "code",
   "execution_count": null,
   "metadata": {
    "nbgrader": {
     "grade": false,
     "grade_id": "cell-bd1fbbeb134aaf03",
     "locked": false,
     "schema_version": 3,
     "solution": true,
     "task": false
    }
   },
   "outputs": [],
   "source": []
  },
  {
   "cell_type": "code",
   "execution_count": 8,
   "metadata": {
    "code_folding": [
     0
    ],
    "nbgrader": {
     "grade": true,
     "grade_id": "cell-064a01381d34329d",
     "locked": true,
     "points": 0,
     "schema_version": 3,
     "solution": false,
     "task": false
    }
   },
   "outputs": [],
   "source": [
    "### BEGIN HIDDEN TESTS\n",
    "assert 257\n",
    "### END HIDDEN TESTS"
   ]
  },
  {
   "cell_type": "markdown",
   "metadata": {
    "nbgrader": {
     "grade": false,
     "grade_id": "cell-0b4c36a81e5fe6c6",
     "locked": true,
     "points": 0,
     "schema_version": 3,
     "solution": false,
     "task": true
    }
   },
   "source": [
    "2.  You manage the Reno plant, and you want to know how much time your\n",
    "    employees are spending on special projects."
   ]
  },
  {
   "cell_type": "markdown",
   "metadata": {
    "nbgrader": {
     "grade": false,
     "grade_id": "cell-024cabdc311fba23",
     "locked": true,
     "points": 1,
     "schema_version": 3,
     "solution": false,
     "task": true
    }
   },
   "source": [
    "3.  You manage the Quota Computation project in Chicago, and you want to know how much time your employees have spent on that project."
   ]
  },
  {
   "cell_type": "markdown",
   "metadata": {
    "nbgrader": {
     "grade": false,
     "grade_id": "cell-a90f43f85941bf83",
     "locked": true,
     "points": 1,
     "schema_version": 3,
     "solution": false,
     "task": true
    }
   },
   "source": [
    "4.  You manage the Quota Computation project for all three plants, and\n",
    "    you want to know the total time employees have spent on your\n",
    "    project."
   ]
  },
  {
   "cell_type": "markdown",
   "metadata": {
    "nbgrader": {
     "grade": false,
     "grade_id": "cell-38c46cf170205014",
     "locked": true,
     "points": 1,
     "schema_version": 3,
     "solution": false,
     "task": true
    }
   },
   "source": [
    "5.  You manage the Quota Computation project for all three plants, and\n",
    "    you want to know the total labor cost for all employees on your\n",
    "    project."
   ]
  },
  {
   "cell_type": "markdown",
   "metadata": {
    "nbgrader": {
     "grade": false,
     "grade_id": "cell-5ce3ef3d91184645",
     "locked": true,
     "points": 1,
     "schema_version": 3,
     "solution": false,
     "task": true
    }
   },
   "source": [
    "6.  You manage the Quota Computation project for all three plants, and\n",
    "    you want to know how the labor- hour total for your project compares\n",
    "    to the labor-hour totals for the other special projects."
   ]
  },
  {
   "cell_type": "markdown",
   "metadata": {
    "nbgrader": {
     "grade": false,
     "grade_id": "cell-25193314f06c1add",
     "locked": true,
     "points": 1,
     "schema_version": 3,
     "solution": false,
     "task": true
    }
   },
   "source": [
    "What conclusions can you make from this exercise?"
   ]
  },
  {
   "cell_type": "markdown",
   "metadata": {},
   "source": [
    "## The Value of a Database - Structuring Information Retrieval\n",
    "\n",
    "The database in the Microsoft Access file *Ch01Ex02_E9e* contains the same records of employee activity on special projects as in Application Exercise 1-1. Before going any further, open that database and view the records in the Employee Hours table.\n",
    "\n",
    "- [Exercise 1, Access Database Ch01Ex02_E9e](./Files/Ch01Ex02_E9e.accdb)"
   ]
  },
  {
   "cell_type": "markdown",
   "metadata": {
    "nbgrader": {
     "grade": false,
     "grade_id": "cell-454db80c1756cb93",
     "locked": true,
     "points": 0,
     "schema_version": 3,
     "solution": false,
     "task": true
    }
   },
   "source": [
    "1.  Eight queries have been created that process this data in different \n",
    "    ways. Using the criteria of accuracy, relevancy, and sufficiency, \n",
    "    select the one query that is most  appropriate for the information \n",
    "    requirements in Application Exercise 1-1, instructions 1-6. If no query\n",
    "    meets the need, explain why."
   ]
  },
  {
   "cell_type": "markdown",
   "metadata": {
    "nbgrader": {
     "grade": true,
     "grade_id": "cell-9cd5ae8b286cfcf7",
     "locked": false,
     "points": 0,
     "schema_version": 3,
     "solution": true,
     "task": false
    }
   },
   "source": []
  },
  {
   "cell_type": "markdown",
   "metadata": {
    "nbgrader": {
     "grade": false,
     "grade_id": "cell-58599617aa1e955b",
     "locked": true,
     "points": 0,
     "schema_version": 3,
     "solution": false,
     "task": true
    }
   },
   "source": [
    "2.  What conclusions can you make from this exercise?"
   ]
  },
  {
   "cell_type": "markdown",
   "metadata": {
    "nbgrader": {
     "grade": true,
     "grade_id": "cell-a15957a01396a5ca",
     "locked": false,
     "points": 0,
     "schema_version": 3,
     "solution": true,
     "task": false
    }
   },
   "source": []
  },
  {
   "cell_type": "markdown",
   "metadata": {
    "nbgrader": {
     "grade": false,
     "grade_id": "cell-22b12d5f44edc77e",
     "locked": true,
     "points": 0,
     "schema_version": 3,
     "solution": false,
     "task": true
    }
   },
   "source": [
    "3.  Comparing your experiences on these two projects, what are the\n",
    "    advantages and disadvantages of spreadsheets and databases?"
   ]
  },
  {
   "cell_type": "markdown",
   "metadata": {
    "nbgrader": {
     "grade": true,
     "grade_id": "cell-83b34cdcf49cf5db",
     "locked": false,
     "points": 0,
     "schema_version": 3,
     "solution": true,
     "task": false
    }
   },
   "source": []
  },
  {
   "cell_type": "markdown",
   "metadata": {
    "nbgrader": {
     "grade": false,
     "grade_id": "cell-957cafae1b07352d",
     "locked": true,
     "points": 0,
     "schema_version": 3,
     "solution": false,
     "task": true
    }
   },
   "source": [
    "## Basics of Excel Formatting\n",
    "\n",
    "1.  Figure AE-1 shows an Excel spreadsheet that the resort bicycle rental business uses to value and analyze its bicycle inventory. Examine Figure AE-1 to understand the meaning of the data. Now use Excel to create a similar spreadsheet. Note the following:\n",
    "\n",
    "\t*   The top heading is in 20-point Calibri font. It is centered in the spreadsheet. Cells A1 through H1 have been merged.\n",
    "\t*   The second heading, Bicycle Inventory Valuation, is in 18-point Calibri, italics. It is centered in cells A2 through H2, which have been merged.\n",
    "\t*   The column headings are set in 11-point Calibri, bold. They are centered in their cells, and the text wraps in the cells.\n",
    "\n",
    "2.  Make the first two rows of your spreadsheet similar to that in\n",
    "    Figure AE-1. Choose your own colors for background and type, however.\n",
    "\n",
    "3.  Place the current date so that it is centered in cells C3, D3, and E3, which must be merged.\n",
    "\n",
    "    ![image](Experiencing_MIS%2C_Global_Edition_
----_%28Application_Exercises%29_files/Image_006.png)\n",
    "    \n",
    "    \t### figure ae-1\n",
    "\n",
    "3.  Outline the cells as shown in Figure AE-1.\n",
    "\n",
    "4.  Please use these formulas in your spreadsheet, as shown in Figure\n",
    "    AE-1. Figure AE-1 uses the following formulas:\n",
    "    * Cost of Current Inventory [= ]{.s11}Bike Cost [×]{.s11}\n",
    "    * Number on Hand Revenue per Bike [= ]{.s11}Total Rental Revenue/\n",
    "    * Number on Hand Revenue as a Percent = Total Rental Revenue/    of Cost of Inventory Cost of Current Inventory\n",
    "\n",
    "5.  Format the cells in the columns, as shown.\n",
    "\n",
    "6.  Give three examples of decisions that management of the bike rental\n",
    "    agency might make from this data.\n",
    "\n",
    "7.  What other calculation could you make from this data that would be\n",
    "    useful to the bike rental management? Create a second version of\n",
    "    this spread- sheet in your worksheet document that has this\n",
    "    calculation.\n"
   ]
  },
  {
   "cell_type": "markdown",
   "metadata": {},
   "source": [
    "## Assist Managerial Decision-making with Excel\n",
    "\n",
    "Suppose that you have been asked to assist in the managerial decision about how much to increase pay in the next year. Assume you are given a list of the departments in your company, along with the average salary for employees in those departments for major companies in your industry. Additionally, you are given the names and salaries of 10 people in each of three departments in your company.\n",
    "\n",
    "\n",
    "Assume you have been asked to create a spreadsheet that shows\n",
    "- the names of the 10 employees in each department, \n",
    "- their current salary,\n",
    "- the difference between their current salary and the industry\n",
    "    average salary for their department, and \n",
    "- the percent their salary would need to be increased to meet the industry average. \n",
    "\n",
    "Your spreadsheet should also compute \n",
    "- the average increase needed to meet the industry average for each\n",
    "    department and \n",
    "- the average increase, company-wide, to meet industry\n",
    "    averages.\n",
    "    \n",
    "**Instructions:**\n",
    "\n",
    "1.  Use the data in the Word file **CE07Ex01_E9e** and create the\n",
    "    spreadsheet.\n",
    "\n",
    "2.  How can you use this analysis to contribute to the employee\n",
    "    salary decision? Based on this data, what conclusions can you\n",
    "    make?\n",
    "\n",
    "3.  Suppose other team members want to use your spreadsheet. Name\n",
    "    three ways you can share it with them and describe the\n",
    "    advantages and disadvantages of each.\n",
    "\n",
    "- [Exercise 1, Word File Ch07Ex01_E9e](./Files/Ch07Ex01_E9e.docx)\n"
   ]
  },
  {
   "cell_type": "markdown",
   "metadata": {},
   "source": [
    "\n",
    "## Assist Managerial Decision-making with Access\n",
    "\n",
    "Suppose that you have been asked to assist in the managerial decision about how much to increase pay in the next year. Specifically, you are tasked to determine if there are significant salary differences among departments in your company.\n",
    "\n",
    "You are given an Access database with a table of employee data with the following structure: **EMPLOYEE (Name, Department, Specialty, Salary)**\n",
    "\n",
    "-   Where *Name* is the name of an employee who works in a\n",
    "    department, \n",
    "-   *Department* is the department name,\n",
    "-   *Specialty* is the name of the employee's primary skill, and \n",
    "-   *Salary* is the employee's current salary. Assume that no two employees have the same name. \n",
    "        \n",
    "**Your have been asked to answer the following queries:**\n",
    "\n",
    "1.  List the names, department, and salary of all employees earning\n",
    "    more than \\$100,000.\n",
    "\n",
    "2.  List the names and specialties of all employees in the Marketing\n",
    "    department.\n",
    "\n",
    "3.  Compute the average, maximum, and minimum salary of employees in\n",
    "    your company.\n",
    "\n",
    "4.  Compute the average, minimum, and maximum salary of employees in the\n",
    "    Marketing department.   \n",
    "\n",
    "5.  Compute the average, minimum, and maximum salary of employees in the\n",
    "    Information Systems department.\n",
    "\n",
    "6.  Extra credit: Compute the average salary for employees in every\n",
    "    department. Use Group By.\n",
    "\n",
    "    \n",
    "**Instructions:**\n",
    "1.  Design and run Access queries to obtain the answers to these\n",
    "    questions, using the data in the Access file **CE01Ex02_E9e.**\n",
    "\n",
    "2.  Explain how the data in your answer contributes to the salary\n",
    "    increase decision.\n",
    "\n",
    "3.  Suppose other team members want to use your Access application. Name\n",
    "    three ways you can share it with them, and describe the advantages\n",
    "    and disad- vantages of each.\n",
    "\n",
    "\n",
    "- [Exercise 2, Access Database Ch01Ex02_E9e](./Files/Ch01Ex02_E9e.accdb)\n"
   ]
  }
 ],
 "metadata": {
  "celltoolbar": "Create Assignment",
  "kernelspec": {
   "display_name": "Python 3",
   "language": "python",
   "name": "python3"
  },
  "language_info": {
   "codemirror_mode": {
    "name": "ipython",
    "version": 3
   },
   "file_extension": ".py",
   "mimetype": "text/x-python",
   "name": "python",
   "nbconvert_exporter": "python",
   "pygments_lexer": "ipython3",
   "version": "3.8.5"
  },
  "latex_envs": {
   "LaTeX_envs_menu_present": true,
   "autoclose": false,
   "autocomplete": true,
   "bibliofile": "biblio.bib",
   "cite_by": "apalike",
   "current_citInitial": 1,
   "eqLabelWithNumbers": true,
   "eqNumInitial": 1,
   "hotkeys": {
    "equation": "Ctrl-E",
    "itemize": "Ctrl-I"
   },
   "labels_anchors": false,
   "latex_user_defs": false,
   "report_style_numbering": false,
   "user_envs_cfg": false
  },
  "toc": {
   "base_numbering": 1,
   "nav_menu": {},
   "number_sections": true,
   "sideBar": true,
   "skip_h1_title": false,
   "title_cell": "Table of Contents",
   "title_sidebar": "Contents",
   "toc_cell": false,
   "toc_position": {},
   "toc_section_display": true,
   "toc_window_display": true
  }
 },
 "nbformat": 4,
 "nbformat_minor": 4
}
